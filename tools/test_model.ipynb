{
 "cells": [
  {
   "cell_type": "code",
   "execution_count": 1,
   "metadata": {},
   "outputs": [],
   "source": [
    "import sys\n",
    "sys.path.append('../')\n",
    "\n",
    "import numpy as np\n",
    "from cpat import Compatibility, init_cpat, train_cpat\n",
    "from bproj import BaryProj, init_bproj, train_bproj\n",
    "from score import Score, init_score, train_score\n",
    "from scones import SCONES\n",
    "import matplotlib.pyplot as plt\n",
    "from config import Config\n",
    "from datasets import Gaussian, SwissRoll\n",
    "import json\n",
    "import torch\n",
    "import os\n",
    "from sinkhorn import sample_stats, sq_bw_distance, sinkhorn, bw_uvp\n",
    "from collections import defaultdict\n",
    "'''\n",
    "Given a configuration, train SCONES and BP and output\n",
    "'''\n",
    "cnf = Config(\"Swiss-Roll\",\n",
    "             source=\"circle\",\n",
    "             target=\"swiss-roll\",\n",
    "             l = 2,\n",
    "             cpat_lr=0.00001,\n",
    "             cpat_iters=2500,\n",
    "             cpat_bs=1000,\n",
    "             score_lr=0.000001,\n",
    "             score_iters=2500,\n",
    "             score_bs=1000,\n",
    "             bproj_lr=0.000001,\n",
    "             bproj_iters=5000,\n",
    "             bproj_bs=1000,\n",
    "             score_noise_init=5,\n",
    "             score_noise_final=0.01,\n",
    "             device='cuda',\n",
    "             score_n_classes = 20,\n",
    "             score_steps_per_class = 400,\n",
    "             score_sampling_lr = 0.000001,\n",
    "             scones_samples_per_source=100,\n",
    "             seed=2039)\n",
    "torch.manual_seed(cnf.seed)\n",
    "np.random.seed(cnf.seed)\n",
    "import time\n",
    "log_dir = 'logs/' + time.strftime(\"%Y-%m-%d/%H_%M_%S/\", time.localtime())\n",
    "cnf.log_dir = log_dir"
   ]
  },
  {
   "cell_type": "code",
   "execution_count": 2,
   "metadata": {},
   "outputs": [
    {
     "data": {
      "text/plain": [
       "{'name': 'Swiss-Roll',\n",
       " 'source_dist': <datasets.Circle at 0x7fd4bdb63d10>,\n",
       " 'target_dist': <datasets.SwissRoll at 0x7fd4bd30b050>,\n",
       " 'source_dim': 2,\n",
       " 'target_dim': 2,\n",
       " 'l': 2,\n",
       " 'cpat_lr': 1e-05,\n",
       " 'cpat_iters': 2500,\n",
       " 'cpat_bs': 1000,\n",
       " 'bproj_lr': 1e-06,\n",
       " 'bproj_iters': 5000,\n",
       " 'bproj_bs': 1000,\n",
       " 'score_lr': 1e-06,\n",
       " 'score_iters': 2500,\n",
       " 'score_bs': 1000,\n",
       " 'score_n_classes': 20,\n",
       " 'score_steps_per_class': 400,\n",
       " 'score_sampling_lr': 1e-06,\n",
       " 'score_noise_init': 5,\n",
       " 'score_noise_final': 0.01,\n",
       " 'scones_iters': 3000,\n",
       " 'scones_samples_per_source': 100,\n",
       " 'scones_bs': 1000,\n",
       " 'cov_samples': 10000,\n",
       " 'device': 'cuda',\n",
       " 'seed': 2039,\n",
       " 'log_dir': 'logs/2023-07-24/21_09_53/'}"
      ]
     },
     "execution_count": 2,
     "metadata": {},
     "output_type": "execute_result"
    }
   ],
   "source": [
    "cnf.__dict__"
   ]
  },
  {
   "cell_type": "code",
   "execution_count": 3,
   "metadata": {},
   "outputs": [
    {
     "name": "stderr",
     "output_type": "stream",
     "text": [
      "Failed to detect the name of this notebook, you can set it manually with the WANDB_NOTEBOOK_NAME environment variable to enable code saving.\n",
      "\u001b[34m\u001b[1mwandb\u001b[0m: Currently logged in as: \u001b[33mjimmyisme\u001b[0m. Use \u001b[1m`wandb login --relogin`\u001b[0m to force relogin\n",
      "\u001b[34m\u001b[1mwandb\u001b[0m: \u001b[33mWARNING\u001b[0m Path logs/2023-07-24/21_09_53/wandb/ wasn't writable, using system temp directory.\n"
     ]
    },
    {
     "data": {
      "text/html": [
       "Tracking run with wandb version 0.15.5"
      ],
      "text/plain": [
       "<IPython.core.display.HTML object>"
      ]
     },
     "metadata": {},
     "output_type": "display_data"
    },
    {
     "data": {
      "text/html": [
       "Run data is saved locally in <code>/tmp/wandb/run-20230724_210955-mnpsa5gz</code>"
      ],
      "text/plain": [
       "<IPython.core.display.HTML object>"
      ]
     },
     "metadata": {},
     "output_type": "display_data"
    },
    {
     "data": {
      "text/html": [
       "Syncing run <strong><a href='https://wandb.ai/jimmyisme/scones/runs/mnpsa5gz' target=\"_blank\">Swiss-Roll2023-07-24/21:09:53</a></strong> to <a href='https://wandb.ai/jimmyisme/scones' target=\"_blank\">Weights & Biases</a> (<a href='https://wandb.me/run' target=\"_blank\">docs</a>)<br/>"
      ],
      "text/plain": [
       "<IPython.core.display.HTML object>"
      ]
     },
     "metadata": {},
     "output_type": "display_data"
    },
    {
     "data": {
      "text/html": [
       " View project at <a href='https://wandb.ai/jimmyisme/scones' target=\"_blank\">https://wandb.ai/jimmyisme/scones</a>"
      ],
      "text/plain": [
       "<IPython.core.display.HTML object>"
      ]
     },
     "metadata": {},
     "output_type": "display_data"
    },
    {
     "data": {
      "text/html": [
       " View run at <a href='https://wandb.ai/jimmyisme/scones/runs/mnpsa5gz' target=\"_blank\">https://wandb.ai/jimmyisme/scones/runs/mnpsa5gz</a>"
      ],
      "text/plain": [
       "<IPython.core.display.HTML object>"
      ]
     },
     "metadata": {},
     "output_type": "display_data"
    }
   ],
   "source": [
    "import wandb\n",
    "run = wandb.init(\n",
    "    project=\"scones\",\n",
    "    config=cnf.__dict__,\n",
    "    save_code=True, \n",
    "    name=cnf.name+time.strftime(\"%Y-%m-%d/%H:%M:%S\", time.localtime()),\n",
    "    dir=log_dir\n",
    ")"
   ]
  },
  {
   "cell_type": "code",
   "execution_count": 5,
   "metadata": {},
   "outputs": [],
   "source": [
    "# rand_shuffling = np.random.permutation(20)\n",
    "\n",
    "# initial = DiagonalMatching(500,mode='initial', easy=True).rvs((200, 0))[:20][rand_shuffling]\n",
    "# final = DiagonalMatching(500,mode='final', easy=True).rvs((200, 0))[:20][rand_shuffling]\n",
    "# plt.scatter(*initial.T)\n",
    "# plt.scatter(*final.T)\n",
    "# plot_matchings(initial, final, lw=.5)\n",
    "# plt.show()"
   ]
  },
  {
   "cell_type": "code",
   "execution_count": 6,
   "metadata": {},
   "outputs": [],
   "source": [
    "from  diagonal_matching import DiagonalMatching\n",
    "cnf.source_dist = DiagonalMatching(n_samples=cnf.scones_samples_per_source, mode='initial',easy=True)\n",
    "cnf.target_dist = DiagonalMatching(n_samples=cnf.scones_samples_per_source, mode='final', easy=True)"
   ]
  },
  {
   "cell_type": "code",
   "execution_count": 7,
   "metadata": {},
   "outputs": [
    {
     "name": "stderr",
     "output_type": "stream",
     "text": [
      "Objective: 200.79605 - Average Density: 0.96993: 100%|██████████| 2500/2500 [00:23<00:00, 107.68it/s]\n",
      "Objective: 1.62E+02: 100%|██████████| 5000/5000 [00:46<00:00, 106.92it/s]\n",
      "Objective: 5.64E-01: 100%|██████████| 2500/2500 [00:31<00:00, 80.17it/s]\n"
     ]
    }
   ],
   "source": [
    "cpat = init_cpat(cnf)\n",
    "\n",
    "# If TRUE, ignore any existing pretrained models and overwrite them.\n",
    "OVERWRITE = True\n",
    "\n",
    "# Create directories for saving pretrained models if they do not already exist\n",
    "touch_path = lambda p: os.makedirs(p) if not os.path.exists(p) else None\n",
    "for path in ['', 'cpat', 'bproj', 'ncsn']:\n",
    "    touch_path(log_dir + path)\n",
    "\n",
    "# Search for and load any existing pretrained models\n",
    "if ((not OVERWRITE) and os.path.exists(os.path.join(f\"{log_dir}cpat\", cnf.name))):\n",
    "    cpat.load(os.path.join(f\"{log_dir}cpat\", cnf.name, \"cpat.pt\"))\n",
    "else:\n",
    "    train_cpat(cpat, cnf, log_dir, run, verbose=True)\n",
    "\n",
    "bproj = init_bproj(cpat, cnf)\n",
    "\n",
    "if ((not OVERWRITE) and os.path.exists(os.path.join(f\"{log_dir}bproj\", cnf.name))):\n",
    "    bproj.load(os.path.join(f\"{log_dir}bproj\", cnf.name, \"bproj.pt\"))\n",
    "else:\n",
    "    train_bproj(bproj, cnf, log_dir, run, verbose=True)\n",
    "\n",
    "score = init_score(cnf)\n",
    "\n",
    "if ((not OVERWRITE) and os.path.exists(os.path.join(f\"{log_dir}score\", cnf.name))):\n",
    "    score.load(os.path.join(f\"{log_dir}score\", cnf.name, \"score.pt\"))\n",
    "else:\n",
    "    train_score(score, cnf, log_dir, run, verbose=True)"
   ]
  },
  {
   "cell_type": "code",
   "execution_count": 9,
   "metadata": {},
   "outputs": [
    {
     "name": "stderr",
     "output_type": "stream",
     "text": [
      "100%|██████████| 20/20 [6:40:22<00:00, 1201.10s/it]  \n"
     ]
    }
   ],
   "source": [
    "scones = SCONES(cpat, score, bproj, cnf)\n",
    "\n",
    "# Sample and test the model \n",
    "n_samples = 2000\n",
    "Xs = cnf.source_dist.rvs(size=(n_samples,))\n",
    "Xs_th = torch.FloatTensor(Xs).to(cnf.device)\n",
    "\n",
    "bproj_Xs_th = bproj.projector(Xs_th).detach()\n",
    "bproj_Xs = bproj_Xs_th.cpu().numpy()\n",
    "\n",
    "\n",
    "scones_samples = scones.sample(Xs_th, verbose=True, source_init=True)"
   ]
  },
  {
   "cell_type": "code",
   "execution_count": 11,
   "metadata": {},
   "outputs": [
    {
     "data": {
      "image/png": "[encoded data removed]",
      "text/plain": [
       "<Figure size 720x360 with 2 Axes>"
      ]
     },
     "metadata": {
      "needs_background": "light"
     },
     "output_type": "display_data"
    }
   ],
   "source": [
    "plt.subplot(1, 2, 1)\n",
    "plt.scatter(*Xs.T, color=\"#330C2F\", label=\"Source\")\n",
    "plt.scatter(*cnf.target_dist.rvs(size=(n_samples,)).T, color=\"#7B287D\", label=\"Target\")\n",
    "plt.legend()\n",
    "plt.ylim(-15, 16)\n",
    "plt.xlim(-12, 16)\n",
    "plt.title(\"Source and Target\")\n",
    "\n",
    "plt.subplot(1, 2, 2)\n",
    "plt.scatter(*Xs.T, color=\"#330C2F\", label=\"Source\")\n",
    "plt.scatter(*cnf.target_dist.rvs(size=(n_samples,)).T, color=\"#7B287D\", label=\"Target\")\n",
    "# plt.scatter(*bproj_Xs.T, label=\"BPROJ\", color=\"#7067CF\", alpha=0.5)\n",
    "plt.scatter(*scones_samples.reshape(-1, 2).T, label=\"SCONES\", color=\"#1d3557\", alpha=0.5)\n",
    "# print(scones_samples.reshape(-1, 2)[0,:])\n",
    "plt.legend()\n",
    "# plt.ylim(-15, 16)\n",
    "# plt.xlim(-12, 16)\n",
    "plt.title(\"Source $\\\\to$ Target Transportation\")\n",
    "\n",
    "plt.gcf().set_size_inches(10, 5)\n",
    "plt.savefig(\"Source_2_Target.png\")\n",
    "plt.show()\n",
    "\n",
    "#np.save(\"Cutout_Bproj_Gaussian->SwissRoll.npy\", bproj_Xs)\n",
    "#np.save(\"Cutout_SCONES_Gaussian->SwissRoll.npy\", scones_samples)\n",
    "np.save(\"Cutout.npy\", scones_samples)\n",
    "np.save(\"Sources.npy\", Xs)\n",
    "np.save(\"Target.npy\", cnf.target_dist.rvs(size=(n_samples,)))"
   ]
  },
  {
   "cell_type": "code",
   "execution_count": null,
   "metadata": {},
   "outputs": [
    {
     "data": {
      "text/plain": [
       "(400, 100, 2)"
      ]
     },
     "execution_count": 10,
     "metadata": {},
     "output_type": "execute_result"
    }
   ],
   "source": [
    "scones_samples.shape"
   ]
  },
  {
   "cell_type": "code",
   "execution_count": 12,
   "metadata": {},
   "outputs": [],
   "source": [
    "def plot_matchings(fig, t0_points, t1_points, projection=lambda x: x, **kwargs):\n",
    "    kwargs[\"color\"] = kwargs.get(\"color\", \"gray\")\n",
    "    kwargs[\"alpha\"] = kwargs.get(\"alpha\", .7)\n",
    "    # kwargs[\"lw\"] = kwargs.get(\"lw\", .2)\n",
    "    extended_coords = np.concatenate([projection(t0_points), projection(t1_points)], axis=1)\n",
    "    fig.plot(extended_coords[:,::2].T, extended_coords[:,1::2].T, zorder=0, **kwargs);\n",
    "    \n",
    "from matplotlib.colors import LinearSegmentedColormap\n",
    "colors = ['#1A254B', '#114083', '#A7BED3', '#FFFFFF', '#F2545B', '#A4243B']\n",
    "bcmap = LinearSegmentedColormap.from_list('bcmap', colors, N=100)"
   ]
  },
  {
   "cell_type": "code",
   "execution_count": 13,
   "metadata": {},
   "outputs": [
    {
     "name": "stderr",
     "output_type": "stream",
     "text": [
      "  0%|          | 0/20 [12:13:36<?, ?it/s]\n"
     ]
    },
    {
     "data": {
      "image/png": "[encoded data removed]",
      "text/plain": [
       "<Figure size 432x288 with 1 Axes>"
      ]
     },
     "metadata": {
      "needs_background": "light"
     },
     "output_type": "display_data"
    }
   ],
   "source": [
    "# Generating random points for A and B\n",
    "A = Xs\n",
    "B = scones_samples[:,0,:]\n",
    "# plt.figure( figsize=(10,10), dpi=500)\n",
    "# Plotting points in A and B\n",
    "fig, ax = plt.subplots()\n",
    "ax.scatter(A[:, 0], A[:, 1], color=colors[0], label='A', s=0.5)\n",
    "ax.scatter(B[:, 0], B[:, 1], color=colors[-1], label='B', s=0.5)\n",
    "plot_matchings(ax, A, B, lw=.5)\n",
    "\n",
    "# ax.scatter(*Xs.T, color=\"#330C2F\", label=\"Source\")\n",
    "ax.scatter(*cnf.target_dist.rvs(size=(n_samples,)).T, color=\"#7B287D\", label=\"Target\")\n",
    "plot_matchings(ax, Xs, cnf.target_dist.rvs(size=(n_samples,)), lw=.2)\n",
    "\n",
    "# ax.legend()\n",
    "# fig.xlabel('x')\n",
    "# fig.ylabel('y')\n",
    "ax.set_title('Points in A and B with connecting lines')\n",
    "run.log(\n",
    "    {\n",
    "        'fig': wandb.Image(fig)\n",
    "    }\n",
    ")\n",
    "fig.savefig('arrow.jpg')\n",
    "fig.show()"
   ]
  }
 ],
 "metadata": {
  "kernelspec": {
   "display_name": "ljb",
   "language": "python",
   "name": "python3"
  },
  "language_info": {
   "codemirror_mode": {
    "name": "ipython",
    "version": 3
   },
   "file_extension": ".py",
   "mimetype": "text/x-python",
   "name": "python",
   "nbconvert_exporter": "python",
   "pygments_lexer": "ipython3",
   "version": "3.7.16"
  },
  "orig_nbformat": 4
 },
 "nbformat": 4,
 "nbformat_minor": 2
}
