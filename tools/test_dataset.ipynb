{
 "cells": [
  {
   "cell_type": "code",
   "execution_count": 1,
   "metadata": {},
   "outputs": [],
   "source": [
    "import sys\n",
    "sys.path.append('../')\n",
    "\n",
    "import numpy as np\n",
    "from cpat import Compatibility, init_cpat, train_cpat\n",
    "from bproj import BaryProj, init_bproj, train_bproj\n",
    "from score import init_score, train_score\n",
    "from scones import SCONES\n",
    "import matplotlib.pyplot as plt\n",
    "from score import Score\n",
    "from config import Config\n",
    "from datasets import Gaussian, SwissRoll\n",
    "import json\n",
    "import torch\n",
    "import sys\n",
    "import os\n",
    "from sinkhorn import sample_stats, sq_bw_distance, sinkhorn, bw_uvp\n",
    "from collections import defaultdict\n",
    "'''\n",
    "Given a configuration, train SCONES and BP and output\n",
    "'''\n",
    "# 2moon circle swiss-roll gaussian\n",
    "from datasets import *\n",
    "\n",
    "def resolve_dataset(D):\n",
    "    if(D == \"2moon\"):\n",
    "        return TwoMoons(noise=0.1)\n",
    "    if(D == \"circle\"):\n",
    "        return Circle(noise=0.1)\n",
    "    if(D == \"swiss-roll\"):\n",
    "        return SwissRoll(noise=0.25)\n",
    "    if(D == \"gaussian\"):\n",
    "        return Gaussian(mean=np.array([0, 0]), cov=np.eye(2))\n",
    "\n",
    "cnf = Config(\"Swiss-Roll\",\n",
    "             source=\"circle\",\n",
    "             target=\"swiss-roll\",\n",
    "             l = 2,\n",
    "             score_lr=0.000001,\n",
    "             score_iters=1000,\n",
    "             score_bs=500,\n",
    "             score_noise_init=3,\n",
    "             score_noise_final=0.01,\n",
    "             scones_iters=1000,\n",
    "             scones_bs=1000,\n",
    "             device='cuda',\n",
    "             score_n_classes = 10,\n",
    "             score_steps_per_class = 300,\n",
    "             score_sampling_lr = 0.00001,\n",
    "             scones_samples_per_source=100,\n",
    "             seed=2039)"
   ]
  },
  {
   "cell_type": "code",
   "execution_count": 3,
   "metadata": {},
   "outputs": [],
   "source": [
    "bs = cnf.cpat_bs\n",
    "lr = cnf.cpat_lr\n",
    "iters = cnf.cpat_iters\n",
    "\n",
    "source_dist = cnf.source_dist\n",
    "target_dist = cnf.target_dist\n",
    "\n",
    "source_sample = torch.FloatTensor(source_dist.rvs(size=(bs,)))\n",
    "target_sample = torch.FloatTensor(target_dist.rvs(size=(bs,)))"
   ]
  },
  {
   "cell_type": "code",
   "execution_count": 4,
   "metadata": {},
   "outputs": [
    {
     "data": {
      "text/plain": [
       "torch.Size([500, 2])"
      ]
     },
     "execution_count": 4,
     "metadata": {},
     "output_type": "execute_result"
    }
   ],
   "source": [
    "target_sample.shape"
   ]
  },
  {
   "cell_type": "code",
   "execution_count": 5,
   "metadata": {},
   "outputs": [
    {
     "data": {
      "image/png": "[encoded data removed]",
      "text/plain": [
       "<Figure size 432x288 with 1 Axes>"
      ]
     },
     "metadata": {
      "needs_background": "light"
     },
     "output_type": "display_data"
    }
   ],
   "source": [
    "plt.scatter(target_sample[:,0], target_sample[:,1])\n",
    "plt.scatter(source_sample[:,0], source_sample[:,1], c='red')\n",
    "plt.show()"
   ]
  },
  {
   "cell_type": "code",
   "execution_count": null,
   "metadata": {},
   "outputs": [],
   "source": []
  }
 ],
 "metadata": {
  "kernelspec": {
   "display_name": "Python 3",
   "language": "python",
   "name": "python3"
  },
  "language_info": {
   "codemirror_mode": {
    "name": "ipython",
    "version": 3
   },
   "file_extension": ".py",
   "mimetype": "text/x-python",
   "name": "python",
   "nbconvert_exporter": "python",
   "pygments_lexer": "ipython3",
   "version": "3.7.16"
  },
  "orig_nbformat": 4
 },
 "nbformat": 4,
 "nbformat_minor": 2
}
